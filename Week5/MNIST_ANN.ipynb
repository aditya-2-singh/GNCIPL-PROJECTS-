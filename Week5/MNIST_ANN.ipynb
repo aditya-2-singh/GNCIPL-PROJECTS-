{
  "nbformat": 4,
  "nbformat_minor": 0,
  "metadata": {
    "colab": {
      "provenance": []
    },
    "kernelspec": {
      "name": "python3",
      "display_name": "Python 3"
    },
    "language_info": {
      "name": "python"
    }
  },
  "cells": [
    {
      "cell_type": "code",
      "execution_count": 13,
      "metadata": {
        "id": "o9zphadPaTEz"
      },
      "outputs": [],
      "source": [
        "import numpy as np\n",
        "import matplotlib.pyplot as plt\n",
        "from tensorflow.keras.datasets import mnist\n",
        "from tensorflow.keras.models import Sequential\n",
        "from tensorflow.keras.layers import Dense, Flatten\n",
        "from tensorflow.keras.utils import to_categorical\n"
      ]
    },
    {
      "cell_type": "code",
      "source": [
        "(x_train, y_train), (x_test, y_test) = mnist.load_data()\n",
        "\n",
        "print(\"Training data shape:\", x_train.shape)\n",
        "print(\"Test data shape:\", x_test.shape)\n",
        "\n",
        "print(\"\\nSample labels (y_train):\", y_train[:10])\n",
        "\n",
        "df = pd.DataFrame({\"Label\": y_train[:20]})\n",
        "print(\"\\nHead (first 5 labels):\")\n",
        "print(df.head())\n",
        "\n",
        "print(\"\\nDescribe (label distribution in first 20 samples):\")\n",
        "print(df.describe())\n",
        "\n",
        "plt.figure(figsize=(10,2))\n",
        "for i in range(5):\n",
        "    plt.subplot(1,5,i+1)\n",
        "    plt.imshow(x_train[i], cmap='gray')\n",
        "    plt.title(f\"Label: {y_train[i]}\")\n",
        "    plt.axis(\"off\")\n",
        "plt.show()\n",
        "\n",
        "x_train = x_train / 255.0\n",
        "x_test = x_test / 255.0\n",
        "\n",
        "y_train = to_categorical(y_train, 10)\n",
        "y_test = to_categorical(y_test, 10)\n",
        "\n",
        "print(\"\\nAfter one-hot encoding:\")\n",
        "print(\"y_train[0]:\", y_train[0])\n"
      ],
      "metadata": {
        "colab": {
          "base_uri": "https://localhost:8080/",
          "height": 643
        },
        "id": "lSgtiatca0tF",
        "outputId": "4a053987-9f02-4adb-d8b3-1fb2151ab09b"
      },
      "execution_count": 20,
      "outputs": [
        {
          "output_type": "stream",
          "name": "stdout",
          "text": [
            "Training data shape: (60000, 28, 28)\n",
            "Test data shape: (10000, 28, 28)\n",
            "\n",
            "Sample labels (y_train): [5 0 4 1 9 2 1 3 1 4]\n",
            "\n",
            "Head (first 5 labels):\n",
            "   Label\n",
            "0      5\n",
            "1      0\n",
            "2      4\n",
            "3      1\n",
            "4      9\n",
            "\n",
            "Describe (label distribution in first 20 samples):\n",
            "           Label\n",
            "count  20.000000\n",
            "mean    4.000000\n",
            "std     2.790963\n",
            "min     0.000000\n",
            "25%     1.750000\n",
            "50%     3.500000\n",
            "75%     6.000000\n",
            "max     9.000000\n"
          ]
        },
        {
          "output_type": "display_data",
          "data": {
            "text/plain": [
              "<Figure size 1000x200 with 5 Axes>"
            ],
            "image/png": "[encoded data removed]"
          },
          "metadata": {}
        },
        {
          "output_type": "stream",
          "name": "stdout",
          "text": [
            "\n",
            "After one-hot encoding:\n",
            "y_train[0]: [0. 0. 0. 0. 0. 1. 0. 0. 0. 0.]\n"
          ]
        }
      ]
    },
    {
      "cell_type": "code",
      "source": [
        "model = Sequential([\n",
        "    Flatten(input_shape=(28, 28)),\n",
        "    Dense(128, activation='relu'),\n",
        "    Dense(64, activation='relu'),\n",
        "    Dense(10, activation='softmax')\n",
        "])\n"
      ],
      "metadata": {
        "id": "nu-4-UhHfOw_"
      },
      "execution_count": 21,
      "outputs": []
    },
    {
      "cell_type": "code",
      "source": [],
      "metadata": {
        "id": "t34qcqF7a6oY"
      },
      "execution_count": 23,
      "outputs": []
    },
    {
      "cell_type": "code",
      "source": [
        "history = model.fit(x_train, y_train,\n",
        "                    validation_data=(x_test, y_test),\n",
        "                    epochs=10,\n",
        "                    batch_size=128,\n",
        "                    verbose=2)\n",
        "\n"
      ],
      "metadata": {
        "colab": {
          "base_uri": "https://localhost:8080/"
        },
        "id": "3quFwSfDbVfl",
        "outputId": "706ea87b-d31b-4f81-e944-55663e2c10aa"
      },
      "execution_count": 24,
      "outputs": [
        {
          "output_type": "stream",
          "name": "stdout",
          "text": [
            "Epoch 1/10\n",
            "469/469 - 3s - 7ms/step - accuracy: 0.9070 - loss: 0.3296 - val_accuracy: 0.9485 - val_loss: 0.1675\n",
            "Epoch 2/10\n",
            "469/469 - 3s - 6ms/step - accuracy: 0.9585 - loss: 0.1386 - val_accuracy: 0.9629 - val_loss: 0.1258\n",
            "Epoch 3/10\n",
            "469/469 - 3s - 5ms/step - accuracy: 0.9709 - loss: 0.0961 - val_accuracy: 0.9699 - val_loss: 0.0962\n",
            "Epoch 4/10\n",
            "469/469 - 4s - 9ms/step - accuracy: 0.9778 - loss: 0.0722 - val_accuracy: 0.9738 - val_loss: 0.0846\n",
            "Epoch 5/10\n",
            "469/469 - 4s - 9ms/step - accuracy: 0.9826 - loss: 0.0563 - val_accuracy: 0.9751 - val_loss: 0.0794\n",
            "Epoch 6/10\n",
            "469/469 - 2s - 5ms/step - accuracy: 0.9857 - loss: 0.0457 - val_accuracy: 0.9760 - val_loss: 0.0807\n",
            "Epoch 7/10\n",
            "469/469 - 2s - 5ms/step - accuracy: 0.9891 - loss: 0.0365 - val_accuracy: 0.9736 - val_loss: 0.0902\n",
            "Epoch 8/10\n",
            "469/469 - 3s - 6ms/step - accuracy: 0.9899 - loss: 0.0307 - val_accuracy: 0.9783 - val_loss: 0.0771\n",
            "Epoch 9/10\n",
            "469/469 - 5s - 10ms/step - accuracy: 0.9927 - loss: 0.0244 - val_accuracy: 0.9778 - val_loss: 0.0766\n",
            "Epoch 10/10\n",
            "469/469 - 2s - 5ms/step - accuracy: 0.9933 - loss: 0.0216 - val_accuracy: 0.9796 - val_loss: 0.0715\n"
          ]
        }
      ]
    },
    {
      "cell_type": "code",
      "source": [
        "test_loss, test_acc = model.evaluate(x_test, y_test, verbose=0)\n",
        "print(f\":Accuracy: {test_acc:.4f}\")\n"
      ],
      "metadata": {
        "colab": {
          "base_uri": "https://localhost:8080/"
        },
        "id": "iL-zpG_KbXwi",
        "outputId": "7253a841-9482-4783-bf09-10199e0a1e49"
      },
      "execution_count": 25,
      "outputs": [
        {
          "output_type": "stream",
          "name": "stdout",
          "text": [
            "✅ Test Accuracy: 0.9796\n"
          ]
        }
      ]
    },
    {
      "cell_type": "code",
      "source": [
        "predictions = model.predict(x_test[:9])\n",
        "\n",
        "plt.figure(figsize=(10,10))\n",
        "for i in range(9):\n",
        "    plt.subplot(3,3,i+1)\n",
        "    plt.imshow(x_test[i], cmap='gray')\n",
        "    plt.title(f\"Pred: {np.argmax(predictions[i])}\")\n",
        "    plt.axis('off')\n",
        "plt.show()"
      ],
      "metadata": {
        "colab": {
          "base_uri": "https://localhost:8080/",
          "height": 846
        },
        "id": "0RkbUr4yfXeK",
        "outputId": "1baf94aa-50d3-4e31-9ab6-ff23fb1ee4d8"
      },
      "execution_count": 26,
      "outputs": [
        {
          "output_type": "stream",
          "name": "stdout",
          "text": [
            "\u001b[1m1/1\u001b[0m \u001b[32m━━━━━━━━━━━━━━━━━━━━\u001b[0m\u001b[37m\u001b[0m \u001b[1m0s\u001b[0m 76ms/step\n"
          ]
        },
        {
          "output_type": "display_data",
          "data": {
            "text/plain": [
              "<Figure size 1000x1000 with 9 Axes>"
            ],
            "image/png": "[encoded data removed]"
          },
          "metadata": {}
        }
      ]
    },
    {
      "cell_type": "code",
      "source": [],
      "metadata": {
        "id": "QKpyrDXUgkWO"
      },
      "execution_count": null,
      "outputs": []
    }
  ]
}